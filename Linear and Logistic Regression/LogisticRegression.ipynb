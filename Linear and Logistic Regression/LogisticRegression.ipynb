{
  "nbformat": 4,
  "nbformat_minor": 0,
  "metadata": {
    "colab": {
      "name": "LogisticRegression.ipynb",
      "provenance": []
    },
    "kernelspec": {
      "name": "python3",
      "display_name": "Python 3"
    }
  },
  "cells": [
    {
      "cell_type": "code",
      "metadata": {
        "id": "Fd5MjTSvkSbW"
      },
      "source": [
        "import matplotlib.pyplot as plt\r\n",
        "import numpy as np\r\n",
        "from sklearn import datasets"
      ],
      "execution_count": 1,
      "outputs": []
    },
    {
      "cell_type": "code",
      "metadata": {
        "id": "hDo5yEN7mpTw"
      },
      "source": [
        "iris=datasets.load_iris()"
      ],
      "execution_count": 2,
      "outputs": []
    },
    {
      "cell_type": "code",
      "metadata": {
        "colab": {
          "base_uri": "https://localhost:8080/"
        },
        "id": "N-opZTp4mv-Q",
        "outputId": "2194cde7-68fa-45d8-e824-1c26a0ad30da"
      },
      "source": [
        "iris.data.shape"
      ],
      "execution_count": 4,
      "outputs": [
        {
          "output_type": "execute_result",
          "data": {
            "text/plain": [
              "(150, 4)"
            ]
          },
          "metadata": {
            "tags": []
          },
          "execution_count": 4
        }
      ]
    },
    {
      "cell_type": "code",
      "metadata": {
        "colab": {
          "base_uri": "https://localhost:8080/"
        },
        "id": "_ZLim7vBnCAb",
        "outputId": "be66c97d-3a3d-407c-f9d0-7454d904c484"
      },
      "source": [
        "iris.target.shape"
      ],
      "execution_count": 5,
      "outputs": [
        {
          "output_type": "execute_result",
          "data": {
            "text/plain": [
              "(150,)"
            ]
          },
          "metadata": {
            "tags": []
          },
          "execution_count": 5
        }
      ]
    },
    {
      "cell_type": "code",
      "metadata": {
        "colab": {
          "base_uri": "https://localhost:8080/"
        },
        "id": "ILjYRntrnPhc",
        "outputId": "5d3e8c96-0a63-4de2-e3d2-42f181a04c71"
      },
      "source": [
        "iris.target_names"
      ],
      "execution_count": 6,
      "outputs": [
        {
          "output_type": "execute_result",
          "data": {
            "text/plain": [
              "array(['setosa', 'versicolor', 'virginica'], dtype='<U10')"
            ]
          },
          "metadata": {
            "tags": []
          },
          "execution_count": 6
        }
      ]
    },
    {
      "cell_type": "code",
      "metadata": {
        "colab": {
          "base_uri": "https://localhost:8080/"
        },
        "id": "lBY-cJg3nSqs",
        "outputId": "01b4a1a0-a574-4e56-b709-1c51c0dcae56"
      },
      "source": [
        "iris.feature_names"
      ],
      "execution_count": 7,
      "outputs": [
        {
          "output_type": "execute_result",
          "data": {
            "text/plain": [
              "['sepal length (cm)',\n",
              " 'sepal width (cm)',\n",
              " 'petal length (cm)',\n",
              " 'petal width (cm)']"
            ]
          },
          "metadata": {
            "tags": []
          },
          "execution_count": 7
        }
      ]
    },
    {
      "cell_type": "code",
      "metadata": {
        "id": "b82vdec9nZq9"
      },
      "source": [
        "X=iris.data[:,[2,3]]"
      ],
      "execution_count": 8,
      "outputs": []
    },
    {
      "cell_type": "code",
      "metadata": {
        "colab": {
          "base_uri": "https://localhost:8080/"
        },
        "id": "_2PFBJGjnlIc",
        "outputId": "c65ddf26-5167-4cfe-ade8-b23f376496c2"
      },
      "source": [
        "X.shape"
      ],
      "execution_count": 9,
      "outputs": [
        {
          "output_type": "execute_result",
          "data": {
            "text/plain": [
              "(150, 2)"
            ]
          },
          "metadata": {
            "tags": []
          },
          "execution_count": 9
        }
      ]
    },
    {
      "cell_type": "code",
      "metadata": {
        "id": "ivuJKSPznmZs"
      },
      "source": [
        "y=iris.target"
      ],
      "execution_count": 10,
      "outputs": []
    },
    {
      "cell_type": "code",
      "metadata": {
        "colab": {
          "base_uri": "https://localhost:8080/"
        },
        "id": "xQMrjuyUnq0c",
        "outputId": "d406796d-ef44-43dd-b6ca-0647d0a18c69"
      },
      "source": [
        "print('Class Labels', np.unique(y))"
      ],
      "execution_count": 11,
      "outputs": [
        {
          "output_type": "stream",
          "text": [
            "Class Labels [0 1 2]\n"
          ],
          "name": "stdout"
        }
      ]
    },
    {
      "cell_type": "code",
      "metadata": {
        "id": "ANCZpLfWnxob"
      },
      "source": [
        "import sklearn.model_selection\r\n"
      ],
      "execution_count": 12,
      "outputs": []
    },
    {
      "cell_type": "code",
      "metadata": {
        "id": "oaKUdZbdoQBc"
      },
      "source": [
        "trainX,testX,trainy,testy=sklearn.model_selection.train_test_split(X,y,test_size=0.2, shuffle=True,random_state=2)"
      ],
      "execution_count": 14,
      "outputs": []
    },
    {
      "cell_type": "code",
      "metadata": {
        "id": "HTukQgc6okCO"
      },
      "source": [
        "from sklearn.linear_model import LinearRegression"
      ],
      "execution_count": 15,
      "outputs": []
    },
    {
      "cell_type": "code",
      "metadata": {
        "id": "iqoYtvfuovDc"
      },
      "source": [
        "model=LinearRegression()"
      ],
      "execution_count": 16,
      "outputs": []
    },
    {
      "cell_type": "code",
      "metadata": {
        "colab": {
          "base_uri": "https://localhost:8080/"
        },
        "id": "G5CX3NjLoxN8",
        "outputId": "4a88305b-afce-40e4-a2c4-f66ed496087b"
      },
      "source": [
        "model.fit(trainX,trainy)"
      ],
      "execution_count": 17,
      "outputs": [
        {
          "output_type": "execute_result",
          "data": {
            "text/plain": [
              "LinearRegression(copy_X=True, fit_intercept=True, n_jobs=None, normalize=False)"
            ]
          },
          "metadata": {
            "tags": []
          },
          "execution_count": 17
        }
      ]
    },
    {
      "cell_type": "code",
      "metadata": {
        "id": "vfvT6NiIo0Or"
      },
      "source": [
        "predictions=model.predict(testX)"
      ],
      "execution_count": 18,
      "outputs": []
    },
    {
      "cell_type": "code",
      "metadata": {
        "colab": {
          "base_uri": "https://localhost:8080/"
        },
        "id": "MIKVQS-Yo39y",
        "outputId": "b03d9329-1541-4294-e31d-feebd5d6d7d0"
      },
      "source": [
        "predictions"
      ],
      "execution_count": 19,
      "outputs": [
        {
          "output_type": "execute_result",
          "data": {
            "text/plain": [
              "array([ 0.02276948, -0.0274191 ,  1.73709891, -0.1101029 ,  0.03757136,\n",
              "        1.60133506, -0.01117148,  1.73420745,  1.9010208 ,  0.02276948,\n",
              "       -0.0274191 , -0.05991433, -0.07616194,  0.13794852,  1.39011606,\n",
              "        1.33992749,  0.00652187,  1.14206464,  2.18301319,  1.10956941,\n",
              "        1.53779033,  1.15831225,  1.98515034,  1.14206464,  1.17455987,\n",
              "       -0.01117148, -0.05991433,  1.58797891,  0.17044375,  1.76670268])"
            ]
          },
          "metadata": {
            "tags": []
          },
          "execution_count": 19
        }
      ]
    },
    {
      "cell_type": "code",
      "metadata": {
        "id": "kBPqft7BpZzw"
      },
      "source": [
        "predictions=np.array(predictions).astype(int)"
      ],
      "execution_count": 23,
      "outputs": []
    },
    {
      "cell_type": "markdown",
      "metadata": {
        "id": "mvLvSbiPpZkM"
      },
      "source": [
        ""
      ]
    },
    {
      "cell_type": "code",
      "metadata": {
        "id": "Erj3L8sYo5u7"
      },
      "source": [
        "from sklearn.metrics import accuracy_score"
      ],
      "execution_count": 20,
      "outputs": []
    },
    {
      "cell_type": "code",
      "metadata": {
        "id": "7G8xOTU7pF2r"
      },
      "source": [
        "from sklearn.metrics import classification_report"
      ],
      "execution_count": 21,
      "outputs": []
    },
    {
      "cell_type": "code",
      "metadata": {
        "colab": {
          "base_uri": "https://localhost:8080/"
        },
        "id": "qR_AC1KspIYr",
        "outputId": "89322031-b425-4998-f33d-c4a0a683280f"
      },
      "source": [
        "print(classification_report(testy,predictions))"
      ],
      "execution_count": 25,
      "outputs": [
        {
          "output_type": "stream",
          "text": [
            "              precision    recall  f1-score   support\n",
            "\n",
            "           0       1.00      1.00      1.00        14\n",
            "           1       0.53      1.00      0.70         8\n",
            "           2       1.00      0.12      0.22         8\n",
            "\n",
            "    accuracy                           0.77        30\n",
            "   macro avg       0.84      0.71      0.64        30\n",
            "weighted avg       0.88      0.77      0.71        30\n",
            "\n"
          ],
          "name": "stdout"
        }
      ]
    },
    {
      "cell_type": "code",
      "metadata": {
        "colab": {
          "base_uri": "https://localhost:8080/"
        },
        "id": "5TZHj2jYpRm7",
        "outputId": "4d32934b-8f2a-4d90-fe36-66911947237b"
      },
      "source": [
        "accuracy_score(testy,predictions)"
      ],
      "execution_count": 26,
      "outputs": [
        {
          "output_type": "execute_result",
          "data": {
            "text/plain": [
              "0.7666666666666667"
            ]
          },
          "metadata": {
            "tags": []
          },
          "execution_count": 26
        }
      ]
    },
    {
      "cell_type": "markdown",
      "metadata": {
        "id": "rfzOgYTCp6H8"
      },
      "source": [
        "#Losgistic Regression using Sklearn"
      ]
    },
    {
      "cell_type": "code",
      "metadata": {
        "id": "ZRtdyYnWqC2G"
      },
      "source": [
        "from sklearn.linear_model import LogisticRegression"
      ],
      "execution_count": 28,
      "outputs": []
    },
    {
      "cell_type": "code",
      "metadata": {
        "id": "5hwTFAvHp5tW"
      },
      "source": [
        "model=LogisticRegression()"
      ],
      "execution_count": 29,
      "outputs": []
    },
    {
      "cell_type": "code",
      "metadata": {
        "colab": {
          "base_uri": "https://localhost:8080/"
        },
        "id": "fJV2wETsp1kH",
        "outputId": "cc4b4e3a-b8ee-4e14-80d9-de1bcf3b18ae"
      },
      "source": [
        "model.fit(trainX,trainy)"
      ],
      "execution_count": 30,
      "outputs": [
        {
          "output_type": "execute_result",
          "data": {
            "text/plain": [
              "LogisticRegression(C=1.0, class_weight=None, dual=False, fit_intercept=True,\n",
              "                   intercept_scaling=1, l1_ratio=None, max_iter=100,\n",
              "                   multi_class='auto', n_jobs=None, penalty='l2',\n",
              "                   random_state=None, solver='lbfgs', tol=0.0001, verbose=0,\n",
              "                   warm_start=False)"
            ]
          },
          "metadata": {
            "tags": []
          },
          "execution_count": 30
        }
      ]
    },
    {
      "cell_type": "code",
      "metadata": {
        "id": "e29bu6-OqNl8"
      },
      "source": [
        "predictions=model.predict(testX)"
      ],
      "execution_count": 31,
      "outputs": []
    },
    {
      "cell_type": "code",
      "metadata": {
        "colab": {
          "base_uri": "https://localhost:8080/"
        },
        "id": "vKf-s_YEqTes",
        "outputId": "529cd969-d610-4394-abe2-cb7561cc6031"
      },
      "source": [
        "predictions"
      ],
      "execution_count": 32,
      "outputs": [
        {
          "output_type": "execute_result",
          "data": {
            "text/plain": [
              "array([0, 0, 2, 0, 0, 2, 0, 2, 2, 0, 0, 0, 0, 0, 1, 1, 0, 1, 2, 1, 2, 1,\n",
              "       2, 1, 1, 0, 0, 2, 0, 2])"
            ]
          },
          "metadata": {
            "tags": []
          },
          "execution_count": 32
        }
      ]
    },
    {
      "cell_type": "code",
      "metadata": {
        "colab": {
          "base_uri": "https://localhost:8080/"
        },
        "id": "eN3BxeHhqWC7",
        "outputId": "ba08ed53-034c-4b1d-9923-df5f51c159c3"
      },
      "source": [
        "print(classification_report(testy,predictions))"
      ],
      "execution_count": 33,
      "outputs": [
        {
          "output_type": "stream",
          "text": [
            "              precision    recall  f1-score   support\n",
            "\n",
            "           0       1.00      1.00      1.00        14\n",
            "           1       1.00      0.88      0.93         8\n",
            "           2       0.89      1.00      0.94         8\n",
            "\n",
            "    accuracy                           0.97        30\n",
            "   macro avg       0.96      0.96      0.96        30\n",
            "weighted avg       0.97      0.97      0.97        30\n",
            "\n"
          ],
          "name": "stdout"
        }
      ]
    },
    {
      "cell_type": "markdown",
      "metadata": {
        "id": "a1irxe2zryQK"
      },
      "source": [
        "#Decision boundary Logistic Regression"
      ]
    },
    {
      "cell_type": "code",
      "metadata": {
        "id": "DPho22oMryDX"
      },
      "source": [
        "import numpy as np\r\n",
        "from math import *\r\n"
      ],
      "execution_count": 34,
      "outputs": []
    },
    {
      "cell_type": "code",
      "metadata": {
        "id": "MqEak-qxqh3v"
      },
      "source": [
        "def logistic_regression(X, y, alpha):\r\n",
        "    n = X.shape[1]\r\n",
        "    one_column = np.ones((X.shape[0],1))\r\n",
        "    X = np.concatenate((one_column, X), axis = 1)\r\n",
        "    theta = np.zeros(n+1)\r\n",
        "    h = hypothesis(theta, X, n)\r\n",
        "    theta, theta_history, cost = Gradient_Descent(theta, alpha\r\n",
        "                                 , 100000, h, X, y, n)\r\n",
        "    return theta, theta_history, cost\r\n"
      ],
      "execution_count": 35,
      "outputs": []
    },
    {
      "cell_type": "code",
      "metadata": {
        "id": "qOUyquhpr99c"
      },
      "source": [
        "def Gradient_Descent(theta, alpha, num_iters, h, X, y, n):\r\n",
        "    theta_history = np.ones((num_iters,n+1))\r\n",
        "    cost = np.ones(num_iters)\r\n",
        "    for i in range(0,num_iters):\r\n",
        "        theta[0] = theta[0] - (alpha/X.shape[0]) * sum(h - y)\r\n",
        "        for j in range(1,n+1):\r\n",
        "            theta[j] = theta[j] - (alpha/X.shape[0]) * sum((h - y) *\r\n",
        "                                   X.transpose()[j])\r\n",
        "        theta_history[i] = theta\r\n",
        "        h = hypothesis(theta, X, n)\r\n",
        "        cost[i] = (-1/X.shape[0]) * sum(y * np.log(h) + (1 - y) * \r\n",
        "                                        np.log(1 - h))\r\n",
        "    theta = theta.reshape(1,n+1)\r\n",
        "    return theta, theta_history, cost\r\n"
      ],
      "execution_count": 36,
      "outputs": []
    },
    {
      "cell_type": "code",
      "metadata": {
        "id": "5sK-Uc4Tr__c"
      },
      "source": [
        "def hypothesis(theta, X, n):\r\n",
        "    h = np.ones((X.shape[0],1))\r\n",
        "    theta = theta.reshape(1,n+1)\r\n",
        "    for i in range(0,X.shape[0]):\r\n",
        "        h[i] = 1 / (1 + exp(-float(np.matmul(theta, X[i]))))\r\n",
        "    h = h.reshape(X.shape[0])\r\n",
        "    return h"
      ],
      "execution_count": 37,
      "outputs": []
    },
    {
      "cell_type": "code",
      "metadata": {
        "id": "-R6SwmazsA-s"
      },
      "source": [
        "data = np.loadtxt('dataset.txt', delimiter=',')\r\n"
      ],
      "execution_count": 40,
      "outputs": []
    },
    {
      "cell_type": "code",
      "metadata": {
        "id": "mhGxEFaBsEKN"
      },
      "source": [
        "X_train = data[:,[0,1]]\r\n",
        "y_train = data[:,2]\r\n",
        "theta, theta_history, cost = logistic_regression(X_train, y_train\r\n",
        "                                                 , 0.001)"
      ],
      "execution_count": 41,
      "outputs": []
    },
    {
      "cell_type": "code",
      "metadata": {
        "id": "2d9LCsgqseYb"
      },
      "source": [
        "X=np.concatenate((np.ones((X_train.shape[0],1)), X_train),axis= 1)\r\n",
        "h=hypothesis(theta, Xp, Xp.shape[1] - 1)"
      ],
      "execution_count": 45,
      "outputs": []
    },
    {
      "cell_type": "code",
      "metadata": {
        "colab": {
          "base_uri": "https://localhost:8080/",
          "height": 297
        },
        "id": "c8ioBljbsomc",
        "outputId": "d52b7000-83a5-40cf-a431-6a6262c1a1fb"
      },
      "source": [
        "c0 = c1 = 0 # Counter of label 0 and label 1 instances\r\n",
        "for i in range(0, X.shape[0]):\r\n",
        "    if y_train[i] == 0:\r\n",
        "        c0 = c0 + 1\r\n",
        "    else:\r\n",
        "        c1 = c1 + 1\r\n",
        "x0 = np.ones((c0,2)) # matrix label 0 instances\r\n",
        "x1 = np.ones((c1,2)) # matrix label 1 instances\r\n",
        "k0 = k1 = 0\r\n",
        "for i in range(0,y_train.shape[0]):\r\n",
        "    if y_train[i] == 0:\r\n",
        "        x0[k0] = X_train[i]\r\n",
        "        k0 = k0 + 1\r\n",
        "    else:\r\n",
        "        x1[k1] = X_train[i]\r\n",
        "        k1 = k1 + 1\r\n",
        "X = [x0, x1]\r\n",
        "colors = [\"green\", \"blue\"] # colours for Scatter Plot\r\n",
        "theta = theta.reshape(3)\r\n",
        "# getting the x co-ordinates of the decision boundary\r\n",
        "plot_x = np.array([min(X_train[:,0]) - 2, max(X_train[:,0]) + 2])\r\n",
        "# getting corresponding y co-ordinates of the decision boundary\r\n",
        "plot_y = (-1/theta[2]) * (theta[1] * plot_x + theta[0])\r\n",
        "# Plotting the Single Line Decision Boundary\r\n",
        "for x, c in zip(X, colors):\r\n",
        "    if c == \"green\":\r\n",
        "        plt.scatter(x[:,0], x[:,1], color = c, label = \"Not Admitted\")\r\n",
        "    else:\r\n",
        "        plt.scatter(x[:,0], x[:,1], color = c, label = \"Admitted\")\r\n",
        "plt.plot(plot_x, plot_y, label = \"Decision_Boundary\")\r\n",
        "plt.legend()\r\n",
        "plt.xlabel(\"Marks obtained in 1st Exam\")\r\n",
        "plt.ylabel(\"Marks obtained in 2nd Exam\")"
      ],
      "execution_count": 48,
      "outputs": [
        {
          "output_type": "execute_result",
          "data": {
            "text/plain": [
              "Text(0, 0.5, 'Marks obtained in 2nd Exam')"
            ]
          },
          "metadata": {
            "tags": []
          },
          "execution_count": 48
        },
        {
          "output_type": "display_data",
          "data": {
            "image/png": "[encoded data removed]",
            "text/plain": [
              "<Figure size 432x288 with 1 Axes>"
            ]
          },
          "metadata": {
            "tags": [],
            "needs_background": "light"
          }
        }
      ]
    },
    {
      "cell_type": "code",
      "metadata": {
        "id": "LPGZ_oW3sww8"
      },
      "source": [
        ""
      ],
      "execution_count": null,
      "outputs": []
    }
  ]
}