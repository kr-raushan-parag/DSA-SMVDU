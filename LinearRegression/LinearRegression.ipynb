{
  "nbformat": 4,
  "nbformat_minor": 0,
  "metadata": {
    "colab": {
      "name": "LinearRegression.ipynb",
      "provenance": []
    },
    "kernelspec": {
      "name": "python3",
      "display_name": "Python 3"
    }
  },
  "cells": [
    {
      "cell_type": "markdown",
      "metadata": {
        "id": "ngGWpydUbkVh"
      },
      "source": [
        "#LinearRegression\r\n",
        "using SKLearn"
      ]
    },
    {
      "cell_type": "code",
      "metadata": {
        "id": "wHZ6yhgybTLC"
      },
      "source": [
        "import matplotlib.pyplot as plt\r\n",
        "import matplotlib.mlab as mlab\r\n",
        "import numpy as np \r\n",
        "import pandas as pd\r\n",
        "from scipy.stats import norm"
      ],
      "execution_count": null,
      "outputs": []
    },
    {
      "cell_type": "code",
      "metadata": {
        "id": "ekNM500lbi2S"
      },
      "source": [
        "x=np.linspace(1,100,100)"
      ],
      "execution_count": null,
      "outputs": []
    },
    {
      "cell_type": "code",
      "metadata": {
        "id": "tVCqvAgvcKbI"
      },
      "source": [
        "y=x*5+4+np.random.normal(10,50,size=len(x))"
      ],
      "execution_count": null,
      "outputs": []
    },
    {
      "cell_type": "code",
      "metadata": {
        "colab": {
          "base_uri": "https://localhost:8080/",
          "height": 282
        },
        "id": "EaW44u2UcVuf",
        "outputId": "77680f01-ff5e-4f21-f60e-f4abe18c354b"
      },
      "source": [
        "plt.scatter(x,y)"
      ],
      "execution_count": null,
      "outputs": [
        {
          "output_type": "execute_result",
          "data": {
            "text/plain": [
              "<matplotlib.collections.PathCollection at 0x7f4dda3af8d0>"
            ]
          },
          "metadata": {
            "tags": []
          },
          "execution_count": 4
        },
        {
          "output_type": "display_data",
          "data": {
            "image/png": "[encoded data removed]",
            "text/plain": [
              "<Figure size 432x288 with 1 Axes>"
            ]
          },
          "metadata": {
            "tags": [],
            "needs_background": "light"
          }
        }
      ]
    },
    {
      "cell_type": "code",
      "metadata": {
        "id": "q5427gA2cjUv"
      },
      "source": [
        "from sklearn.linear_model import LinearRegression"
      ],
      "execution_count": null,
      "outputs": []
    },
    {
      "cell_type": "code",
      "metadata": {
        "id": "SxQrfvhYcvuO"
      },
      "source": [
        "model=LinearRegression(fit_intercept=True)"
      ],
      "execution_count": null,
      "outputs": []
    },
    {
      "cell_type": "code",
      "metadata": {
        "id": "D__HHSzbc0BO"
      },
      "source": [
        "xfit=model.fit(x[:,np.newaxis],y)"
      ],
      "execution_count": null,
      "outputs": []
    },
    {
      "cell_type": "code",
      "metadata": {
        "id": "fsARR7t8dm-a"
      },
      "source": [
        "xnew=np.linspace(0,100,1000)"
      ],
      "execution_count": null,
      "outputs": []
    },
    {
      "cell_type": "code",
      "metadata": {
        "id": "tFPp1UjLc7GO"
      },
      "source": [
        "ynew=model.predict(xnew[:,np.newaxis])"
      ],
      "execution_count": null,
      "outputs": []
    },
    {
      "cell_type": "code",
      "metadata": {
        "colab": {
          "base_uri": "https://localhost:8080/"
        },
        "id": "mesVJagwdOFO",
        "outputId": "86b3d02d-cf46-4062-d05d-6046a20d091e"
      },
      "source": [
        "ynew.shape"
      ],
      "execution_count": null,
      "outputs": [
        {
          "output_type": "execute_result",
          "data": {
            "text/plain": [
              "(1000,)"
            ]
          },
          "metadata": {
            "tags": []
          },
          "execution_count": 14
        }
      ]
    },
    {
      "cell_type": "code",
      "metadata": {
        "colab": {
          "base_uri": "https://localhost:8080/",
          "height": 282
        },
        "id": "h58ZACozeQdO",
        "outputId": "f15abb63-e7bd-4d70-8986-f2f897d15aa7"
      },
      "source": [
        "plt.scatter(x,y)\r\n",
        "plt.plot(xnew,ynew,'r',linewidth=2)"
      ],
      "execution_count": null,
      "outputs": [
        {
          "output_type": "execute_result",
          "data": {
            "text/plain": [
              "[<matplotlib.lines.Line2D at 0x7f4dce6b1b70>]"
            ]
          },
          "metadata": {
            "tags": []
          },
          "execution_count": 15
        },
        {
          "output_type": "display_data",
          "data": {
            "image/png": "[encoded data removed]",
            "text/plain": [
              "<Figure size 432x288 with 1 Axes>"
            ]
          },
          "metadata": {
            "tags": [],
            "needs_background": "light"
          }
        }
      ]
    },
    {
      "cell_type": "markdown",
      "metadata": {
        "id": "PMBqd1FYew3s"
      },
      "source": [
        "HW: calculate the regression residuals and plot the histogram \r\n",
        "Hint: \r\n",
        "\r\n",
        "plt.hist(residual_values, bins=???, density=True, alpha=0.6, colot='b')"
      ]
    },
    {
      "cell_type": "markdown",
      "metadata": {
        "id": "l-78ZNDbfLpp"
      },
      "source": [
        "Creating synthetic data sklearn.datasets.samples_generator class\r\n",
        "**Linear Regression**"
      ]
    },
    {
      "cell_type": "code",
      "metadata": {
        "id": "3mr6umfaeuCV"
      },
      "source": [
        "from sklearn.datasets.samples_generator import make_regression\r\n",
        "from sklearn.model_selection import train_test_split"
      ],
      "execution_count": null,
      "outputs": []
    },
    {
      "cell_type": "markdown",
      "metadata": {
        "id": "oK1mPgHRflVU"
      },
      "source": [
        "Generate the data"
      ]
    },
    {
      "cell_type": "code",
      "metadata": {
        "id": "u4j_opF3flBV"
      },
      "source": [
        "X,y,coeff=make_regression(n_samples=100, n_features=1, n_informative=10, n_targets=1, bias=100.0, effective_rank=None, tail_strength=0.5, noise=10.0, shuffle=True, coef=True, random_state=None)"
      ],
      "execution_count": null,
      "outputs": []
    },
    {
      "cell_type": "code",
      "metadata": {
        "colab": {
          "base_uri": "https://localhost:8080/"
        },
        "id": "vzoumdQAeZDw",
        "outputId": "fb895fda-a62f-4495-f617-86d4daab6562"
      },
      "source": [
        "\r\n",
        "X.shape, y.shape, coeff"
      ],
      "execution_count": null,
      "outputs": [
        {
          "output_type": "execute_result",
          "data": {
            "text/plain": [
              "((100, 1), (100,), array(45.03272198))"
            ]
          },
          "metadata": {
            "tags": []
          },
          "execution_count": 44
        }
      ]
    },
    {
      "cell_type": "code",
      "metadata": {
        "colab": {
          "base_uri": "https://localhost:8080/",
          "height": 404
        },
        "id": "qMYjM-Z5f9YN",
        "outputId": "32e4ca38-7711-40a2-aa7a-70cf357f7d68"
      },
      "source": [
        "plt.figure(figsize=(12,6))\r\n",
        "plt.plot(X,y,'ro')\r\n",
        "plt.title('Data')\r\n",
        "plt.xlabel('X')\r\n",
        "plt.ylabel('y')\r\n",
        "plt.show()"
      ],
      "execution_count": null,
      "outputs": [
        {
          "output_type": "display_data",
          "data": {
            "image/png": "[encoded data removed]",
            "text/plain": [
              "<Figure size 864x432 with 1 Axes>"
            ]
          },
          "metadata": {
            "tags": [],
            "needs_background": "light"
          }
        }
      ]
    },
    {
      "cell_type": "code",
      "metadata": {
        "id": "_ZjxnMUdgL6b"
      },
      "source": [
        "lm=LinearRegression()"
      ],
      "execution_count": null,
      "outputs": []
    },
    {
      "cell_type": "code",
      "metadata": {
        "id": "haoLVO5zgpHs"
      },
      "source": [
        "modelnew=lm.fit(X,y)"
      ],
      "execution_count": null,
      "outputs": []
    },
    {
      "cell_type": "code",
      "metadata": {
        "colab": {
          "base_uri": "https://localhost:8080/"
        },
        "id": "QK1Lis0zgtC8",
        "outputId": "68111a97-57cc-4e1a-ec26-37e519a3b8a6"
      },
      "source": [
        "modelnew.intercept_"
      ],
      "execution_count": null,
      "outputs": [
        {
          "output_type": "execute_result",
          "data": {
            "text/plain": [
              "100.6842431151289"
            ]
          },
          "metadata": {
            "tags": []
          },
          "execution_count": 79
        }
      ]
    },
    {
      "cell_type": "code",
      "metadata": {
        "colab": {
          "base_uri": "https://localhost:8080/"
        },
        "id": "HvbIKUFBg1Xc",
        "outputId": "27ba40a7-24c5-4040-b6ff-beeb65827d45"
      },
      "source": [
        "modelnew.coef_"
      ],
      "execution_count": null,
      "outputs": [
        {
          "output_type": "execute_result",
          "data": {
            "text/plain": [
              "array([20.01163821])"
            ]
          },
          "metadata": {
            "tags": []
          },
          "execution_count": 80
        }
      ]
    },
    {
      "cell_type": "code",
      "metadata": {
        "id": "h-qzata_g4G8"
      },
      "source": [
        "ypred=modelnew.intercept_+modelnew.coef_[0]*X"
      ],
      "execution_count": null,
      "outputs": []
    },
    {
      "cell_type": "code",
      "metadata": {
        "id": "CIzBgzF3inEO"
      },
      "source": [
        ""
      ],
      "execution_count": null,
      "outputs": []
    },
    {
      "cell_type": "code",
      "metadata": {
        "colab": {
          "base_uri": "https://localhost:8080/",
          "height": 312
        },
        "id": "wk7Oj9pThOz-",
        "outputId": "78a74f93-cad8-4faa-a12b-18a23c39437d"
      },
      "source": [
        "plt.plot(X,y,'ro')\r\n",
        "plt.plot(X,ypred)\r\n",
        "plt.title('Actual vs Predicted')\r\n",
        "plt.xlabel('X')\r\n",
        "plt.ylabel('y')"
      ],
      "execution_count": null,
      "outputs": [
        {
          "output_type": "execute_result",
          "data": {
            "text/plain": [
              "Text(0, 0.5, 'y')"
            ]
          },
          "metadata": {
            "tags": []
          },
          "execution_count": 82
        },
        {
          "output_type": "display_data",
          "data": {
            "image/png": "[encoded data removed]",
            "text/plain": [
              "<Figure size 432x288 with 1 Axes>"
            ]
          },
          "metadata": {
            "tags": [],
            "needs_background": "light"
          }
        }
      ]
    },
    {
      "cell_type": "code",
      "metadata": {
        "id": "lsCVd3G0huDr"
      },
      "source": [
        "X_train,X_test,y_train,y_test=train_test_split(X,y,test_size=0.4,random_state=1)"
      ],
      "execution_count": null,
      "outputs": []
    },
    {
      "cell_type": "code",
      "metadata": {
        "id": "sLKU4miAjHB7"
      },
      "source": [
        "model1=lm.fit(X_train,y_train)"
      ],
      "execution_count": null,
      "outputs": []
    },
    {
      "cell_type": "markdown",
      "metadata": {
        "id": "BqJiFtf-jXrP"
      },
      "source": [
        "**Cross Validation**"
      ]
    },
    {
      "cell_type": "code",
      "metadata": {
        "id": "7j0sEKPZjUt5"
      },
      "source": [
        "from sklearn.metrics import mean_squared_error\r\n",
        "from sklearn.model_selection import cross_val_score"
      ],
      "execution_count": null,
      "outputs": []
    },
    {
      "cell_type": "code",
      "metadata": {
        "id": "6ZHkA8D0jnXK"
      },
      "source": [
        "scores=cross_val_score(model1,X_train,y_train,cv=5)"
      ],
      "execution_count": null,
      "outputs": []
    },
    {
      "cell_type": "code",
      "metadata": {
        "colab": {
          "base_uri": "https://localhost:8080/"
        },
        "id": "a11C5HMjkPCT",
        "outputId": "f013dfef-7a3c-405b-884a-706d054ef97f"
      },
      "source": [
        "scores"
      ],
      "execution_count": null,
      "outputs": [
        {
          "output_type": "execute_result",
          "data": {
            "text/plain": [
              "array([0.9115683 , 0.79462623, 0.87385665, 0.75681327, 0.76017891])"
            ]
          },
          "metadata": {
            "tags": []
          },
          "execution_count": 89
        }
      ]
    },
    {
      "cell_type": "code",
      "metadata": {
        "colab": {
          "base_uri": "https://localhost:8080/"
        },
        "id": "voqWQbFDkUgZ",
        "outputId": "f2416977-2c48-44b7-ab16-9c51ab436347"
      },
      "source": [
        "scores.mean(), scores.std()"
      ],
      "execution_count": null,
      "outputs": [
        {
          "output_type": "execute_result",
          "data": {
            "text/plain": [
              "(0.819408673483542, 0.06244757283210776)"
            ]
          },
          "metadata": {
            "tags": []
          },
          "execution_count": 92
        }
      ]
    },
    {
      "cell_type": "code",
      "metadata": {
        "id": "8rKX_LvKkhqJ"
      },
      "source": [
        "y_pred=model1.predict(X_test)"
      ],
      "execution_count": null,
      "outputs": []
    },
    {
      "cell_type": "code",
      "metadata": {
        "colab": {
          "base_uri": "https://localhost:8080/"
        },
        "id": "bYMK9q4Ik3Qo",
        "outputId": "02183959-bb95-47da-fbb0-79a2bbec1f8d"
      },
      "source": [
        "y_pred.shape"
      ],
      "execution_count": null,
      "outputs": [
        {
          "output_type": "execute_result",
          "data": {
            "text/plain": [
              "(40,)"
            ]
          },
          "metadata": {
            "tags": []
          },
          "execution_count": 94
        }
      ]
    },
    {
      "cell_type": "code",
      "metadata": {
        "colab": {
          "base_uri": "https://localhost:8080/"
        },
        "id": "-6TXFByHk6do",
        "outputId": "442a2f6c-3b96-4180-c507-53bd107f8851"
      },
      "source": [
        "mean_squared_error(y_test,y_pred.flatten())"
      ],
      "execution_count": null,
      "outputs": [
        {
          "output_type": "execute_result",
          "data": {
            "text/plain": [
              "118.32639693933484"
            ]
          },
          "metadata": {
            "tags": []
          },
          "execution_count": 97
        }
      ]
    },
    {
      "cell_type": "code",
      "metadata": {
        "colab": {
          "base_uri": "https://localhost:8080/",
          "height": 298
        },
        "id": "Vce_aUi1lHm4",
        "outputId": "10345c89-7e95-449f-d823-dc11acfce1ae"
      },
      "source": [
        "plt.scatter(model1.predict(X_train),model.predict(X_train)-y_train,color=\"green\",s=10,label='Train data')\r\n",
        "plt.scatter(model1.predict(X_test),model.predict(X_test)-y_test,color=\"blue\",s=10,label='Test data')\r\n",
        "plt.title(\"Residual errors\")\r\n",
        "plt.legend(loc='upper right')"
      ],
      "execution_count": null,
      "outputs": [
        {
          "output_type": "execute_result",
          "data": {
            "text/plain": [
              "<matplotlib.legend.Legend at 0x7f4dcd6d4208>"
            ]
          },
          "metadata": {
            "tags": []
          },
          "execution_count": 100
        },
        {
          "output_type": "display_data",
          "data": {
            "image/png": "[encoded data removed]",
            "text/plain": [
              "<Figure size 432x288 with 1 Axes>"
            ]
          },
          "metadata": {
            "tags": [],
            "needs_background": "light"
          }
        }
      ]
    },
    {
      "cell_type": "markdown",
      "metadata": {
        "id": "a2F7g_n-mXht"
      },
      "source": [
        ""
      ]
    },
    {
      "cell_type": "code",
      "metadata": {
        "colab": {
          "base_uri": "https://localhost:8080/"
        },
        "id": "ygU1uIIql1Cg",
        "outputId": "5d3f4e62-2eaf-4ca7-ca07-22ce2ca27442"
      },
      "source": [
        "np.transpose(X)\r\n"
      ],
      "execution_count": null,
      "outputs": [
        {
          "output_type": "execute_result",
          "data": {
            "text/plain": [
              "array([[ 2.21148514, -0.83533158, -0.38544244,  0.53304499, -0.51971244,\n",
              "         0.34982534,  0.68830832, -0.54006731, -0.11985212, -0.0369651 ,\n",
              "         1.69427294, -1.2336853 , -0.83723548, -0.96871679, -0.53813071,\n",
              "         0.92491539,  0.08783913, -0.14949266, -0.30957254, -1.19804881,\n",
              "         0.77277089, -0.58660589,  0.88057591,  1.2718109 ,  0.23043372,\n",
              "        -1.03252366,  1.54233542,  0.38265016,  0.65174575, -0.9403824 ,\n",
              "         1.02170737,  0.13924361,  0.88276518, -0.77540258, -0.51757678,\n",
              "         1.61856778,  0.12591109,  1.26009458, -1.6763617 ,  1.65037539,\n",
              "         1.73862842, -0.37413578, -0.66295938, -0.60219826, -0.24728335,\n",
              "        -1.04938674, -0.16361035,  0.17320222,  0.89667663,  0.1725191 ,\n",
              "         0.67839629,  1.27921856, -0.78898269, -2.113888  , -1.01871219,\n",
              "         2.43414568,  1.32356713,  0.58977819,  2.57683163, -0.55473585,\n",
              "        -0.52503173, -1.21668931, -0.84034091, -0.43855769, -1.77754249,\n",
              "         0.07911303,  0.23327303, -2.00532612, -1.28798118,  0.97111057,\n",
              "         1.54601538, -0.28042861, -0.82102451,  0.62218237,  0.46241126,\n",
              "        -1.8541436 ,  0.19971254, -2.63054299,  1.00213113,  0.31956247,\n",
              "         1.09808498, -0.24333778, -0.63883608,  0.27206566,  1.84729509,\n",
              "         0.0810395 , -0.19532602, -0.48364538,  0.42662668, -1.85524124,\n",
              "         1.00478517, -1.97280495,  1.53616289,  0.92317215, -0.21108984,\n",
              "        -0.31333395, -1.28556755, -1.26969549,  0.2246716 , -0.9484866 ]])"
            ]
          },
          "metadata": {
            "tags": []
          },
          "execution_count": 101
        }
      ]
    },
    {
      "cell_type": "code",
      "metadata": {
        "colab": {
          "base_uri": "https://localhost:8080/"
        },
        "id": "I9TNxgJqmiYR",
        "outputId": "26370519-95d0-46d7-a900-015807b44944"
      },
      "source": [
        "np.dot(np.transpose(X),y)"
      ],
      "execution_count": null,
      "outputs": [
        {
          "output_type": "execute_result",
          "data": {
            "text/plain": [
              "array([2280.98254086])"
            ]
          },
          "metadata": {
            "tags": []
          },
          "execution_count": 105
        }
      ]
    },
    {
      "cell_type": "markdown",
      "metadata": {
        "id": "Po-nv6z1m0lh"
      },
      "source": [
        "**Normal equation**"
      ]
    },
    {
      "cell_type": "code",
      "metadata": {
        "colab": {
          "base_uri": "https://localhost:8080/"
        },
        "id": "LxH-CTOwm0XI",
        "outputId": "1b693cca-5be2-46e9-fa90-88decf90c8df"
      },
      "source": [
        "x.shape"
      ],
      "execution_count": null,
      "outputs": [
        {
          "output_type": "execute_result",
          "data": {
            "text/plain": [
              "(100,)"
            ]
          },
          "metadata": {
            "tags": []
          },
          "execution_count": 111
        }
      ]
    },
    {
      "cell_type": "code",
      "metadata": {
        "colab": {
          "base_uri": "https://localhost:8080/"
        },
        "id": "AxN5OTM3mmOY",
        "outputId": "e8e45d7e-c467-413d-eab5-24a97fe538f4"
      },
      "source": [
        "y.shape"
      ],
      "execution_count": null,
      "outputs": [
        {
          "output_type": "execute_result",
          "data": {
            "text/plain": [
              "(100,)"
            ]
          },
          "metadata": {
            "tags": []
          },
          "execution_count": 107
        }
      ]
    },
    {
      "cell_type": "code",
      "metadata": {
        "id": "bK5k3Vefnktm"
      },
      "source": [
        "x_bias=np.ones((100,1))\r\n",
        "x_=np.reshape(x,(100,1))\r\n",
        "x_=np.append(x_bias,x_,axis=1)"
      ],
      "execution_count": null,
      "outputs": []
    },
    {
      "cell_type": "code",
      "metadata": {
        "id": "YOSRgv41n5Qm"
      },
      "source": [
        "x_transpose=np.transpose(x_)\r\n",
        "x_transpose_dot_x=x_transpose.dot(x_)"
      ],
      "execution_count": null,
      "outputs": []
    },
    {
      "cell_type": "code",
      "metadata": {
        "id": "LipFA5QVobhO"
      },
      "source": [
        "test1=np.linalg.inv(x_transpose_dot_x)"
      ],
      "execution_count": null,
      "outputs": []
    },
    {
      "cell_type": "code",
      "metadata": {
        "id": "4bPlZCNBotBG"
      },
      "source": [
        "test2=x_transpose.dot(y)"
      ],
      "execution_count": null,
      "outputs": []
    },
    {
      "cell_type": "code",
      "metadata": {
        "id": "mvrB1ZQwox7G"
      },
      "source": [
        "thetas=test1.dot(test2)"
      ],
      "execution_count": null,
      "outputs": []
    },
    {
      "cell_type": "code",
      "metadata": {
        "colab": {
          "base_uri": "https://localhost:8080/"
        },
        "id": "dgCavn9vo6EW",
        "outputId": "409ff0d1-f2c8-4903-8cc3-b216bcf50eac"
      },
      "source": [
        "thetas"
      ],
      "execution_count": null,
      "outputs": [
        {
          "output_type": "execute_result",
          "data": {
            "text/plain": [
              "array([ 1.03525772e+02, -5.72146436e-02])"
            ]
          },
          "metadata": {
            "tags": []
          },
          "execution_count": 120
        }
      ]
    },
    {
      "cell_type": "code",
      "metadata": {
        "id": "59xJmMCtpCUG"
      },
      "source": [
        "xfit1=np.linspace(0,100,1000)\r\n",
        "yfit1=thetas[0]+xfit1*thetas[1]"
      ],
      "execution_count": null,
      "outputs": []
    },
    {
      "cell_type": "code",
      "metadata": {
        "colab": {
          "base_uri": "https://localhost:8080/",
          "height": 282
        },
        "id": "WeQMhJqBpMi1",
        "outputId": "293a6dd3-32b6-4885-f128-d2f4eed20094"
      },
      "source": [
        "plt.scatter(x,y)\r\n",
        "plt.plot(xfit1,yfit1,'r',linewidth=2)"
      ],
      "execution_count": null,
      "outputs": [
        {
          "output_type": "execute_result",
          "data": {
            "text/plain": [
              "[<matplotlib.lines.Line2D at 0x7f4dc52c0da0>]"
            ]
          },
          "metadata": {
            "tags": []
          },
          "execution_count": 129
        },
        {
          "output_type": "display_data",
          "data": {
            "image/png": "[encoded data removed]",
            "text/plain": [
              "<Figure size 432x288 with 1 Axes>"
            ]
          },
          "metadata": {
            "tags": [],
            "needs_background": "light"
          }
        }
      ]
    },
    {
      "cell_type": "code",
      "metadata": {
        "id": "1nBa7JF5pgo3"
      },
      "source": [
        "import numpy as np \r\n",
        "a=np.linspace(0,100,1000000)\r\n",
        "y=np.transpose(a[:,np.newaxis])\r\n",
        "a=a[:,np.newaxis]"
      ],
      "execution_count": null,
      "outputs": []
    },
    {
      "cell_type": "code",
      "metadata": {
        "colab": {
          "base_uri": "https://localhost:8080/"
        },
        "id": "D7odd1JQqpQP",
        "outputId": "4b85f5c0-e6b9-4601-dea1-83fde3fef989"
      },
      "source": [
        "a.shape"
      ],
      "execution_count": null,
      "outputs": [
        {
          "output_type": "execute_result",
          "data": {
            "text/plain": [
              "(10000, 1)"
            ]
          },
          "metadata": {
            "tags": []
          },
          "execution_count": 2
        }
      ]
    },
    {
      "cell_type": "code",
      "metadata": {
        "colab": {
          "base_uri": "https://localhost:8080/"
        },
        "id": "z45kNluSqrsm",
        "outputId": "ccdb9460-cda9-4e4a-b705-a553bdd38421"
      },
      "source": [
        "y.shape"
      ],
      "execution_count": null,
      "outputs": [
        {
          "output_type": "execute_result",
          "data": {
            "text/plain": [
              "(1, 10000)"
            ]
          },
          "metadata": {
            "tags": []
          },
          "execution_count": 3
        }
      ]
    },
    {
      "cell_type": "code",
      "metadata": {
        "id": "s0vQ-c08qUt3"
      },
      "source": [
        "a_dot_y=np.dot(a,y)"
      ],
      "execution_count": null,
      "outputs": []
    },
    {
      "cell_type": "code",
      "metadata": {
        "id": "6MBFplJHqi6V"
      },
      "source": [
        "a_dot_y.shape"
      ],
      "execution_count": null,
      "outputs": []
    },
    {
      "cell_type": "code",
      "metadata": {
        "id": "XDhIsmWwqlW1"
      },
      "source": [
        "test=np.linalg.inv(a_dot_y)"
      ],
      "execution_count": null,
      "outputs": []
    },
    {
      "cell_type": "code",
      "metadata": {
        "id": "32UDZo9_rTy1"
      },
      "source": [
        ""
      ],
      "execution_count": null,
      "outputs": []
    }
  ]
}