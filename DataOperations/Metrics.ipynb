{
  "nbformat": 4,
  "nbformat_minor": 0,
  "metadata": {
    "colab": {
      "name": "Metrics.ipynb",
      "provenance": []
    },
    "kernelspec": {
      "name": "python3",
      "display_name": "Python 3"
    }
  },
  "cells": [
    {
      "cell_type": "code",
      "metadata": {
        "id": "CqswsEkxykOo"
      },
      "source": [
        "import numpy as np\r\n"
      ],
      "execution_count": null,
      "outputs": []
    },
    {
      "cell_type": "code",
      "metadata": {
        "id": "DSnSBta55gX6"
      },
      "source": [
        "true=np.array([1,1,0,0,1]) # Ground truth\r\n",
        "pred=np.array([1,1,1,1,0])"
      ],
      "execution_count": null,
      "outputs": []
    },
    {
      "cell_type": "code",
      "metadata": {
        "id": "3NTK3EUu5rf5"
      },
      "source": [
        "def accuracy(true,pred):\r\n",
        "  true=true.flatten()\r\n",
        "  pred=pred.flatten()\r\n",
        "  correct=(true==pred).sum()\r\n",
        "  return correct/len(pred)\r\n",
        "\r\n"
      ],
      "execution_count": null,
      "outputs": []
    },
    {
      "cell_type": "code",
      "metadata": {
        "colab": {
          "base_uri": "https://localhost:8080/"
        },
        "id": "8cllKa1K6BpY",
        "outputId": "11fa1ef3-8673-444c-8402-ce20153f8cd4"
      },
      "source": [
        "accuracy(true,pred)"
      ],
      "execution_count": null,
      "outputs": [
        {
          "output_type": "execute_result",
          "data": {
            "text/plain": [
              "0.4"
            ]
          },
          "metadata": {
            "tags": []
          },
          "execution_count": 4
        }
      ]
    },
    {
      "cell_type": "code",
      "metadata": {
        "id": "6Ii2q_KU6Jrq"
      },
      "source": [
        "def precision(true, pred):\r\n",
        "  true=true.flatten()\r\n",
        "  pred=pred.flatten()\r\n",
        "  prec=(true*pred).sum()/pred.sum()\r\n",
        "  return prec\r\n"
      ],
      "execution_count": null,
      "outputs": []
    },
    {
      "cell_type": "code",
      "metadata": {
        "colab": {
          "base_uri": "https://localhost:8080/"
        },
        "id": "4pLtsvNR6lMo",
        "outputId": "e8d4aa41-b5b1-4a0f-87d2-642085deb724"
      },
      "source": [
        "precision(true,pred)"
      ],
      "execution_count": null,
      "outputs": [
        {
          "output_type": "execute_result",
          "data": {
            "text/plain": [
              "0.5"
            ]
          },
          "metadata": {
            "tags": []
          },
          "execution_count": 6
        }
      ]
    },
    {
      "cell_type": "code",
      "metadata": {
        "id": "6pcIljiA6ox3"
      },
      "source": [
        "def recall(true,pred):\r\n",
        "  true=true.flatten()\r\n",
        "  pred=pred.flatten()\r\n",
        "  reca=(true*pred).sum()/true.sum()\r\n",
        "  return reca"
      ],
      "execution_count": null,
      "outputs": []
    },
    {
      "cell_type": "code",
      "metadata": {
        "colab": {
          "base_uri": "https://localhost:8080/"
        },
        "id": "L7uYuaoc66vY",
        "outputId": "445437b6-8229-4343-cc83-012001dc2e1e"
      },
      "source": [
        "recall(true,pred)"
      ],
      "execution_count": null,
      "outputs": [
        {
          "output_type": "execute_result",
          "data": {
            "text/plain": [
              "0.6666666666666666"
            ]
          },
          "metadata": {
            "tags": []
          },
          "execution_count": 10
        }
      ]
    },
    {
      "cell_type": "code",
      "metadata": {
        "id": "Xs_anK2S682o"
      },
      "source": [
        "from sklearn.metrics import confusion_matrix"
      ],
      "execution_count": null,
      "outputs": []
    },
    {
      "cell_type": "code",
      "metadata": {
        "colab": {
          "base_uri": "https://localhost:8080/"
        },
        "id": "Rzz_mQcv7Quo",
        "outputId": "0178eb8c-37d9-4270-f571-9030c98ddb99"
      },
      "source": [
        "confusion_matrix(true,pred)"
      ],
      "execution_count": null,
      "outputs": [
        {
          "output_type": "execute_result",
          "data": {
            "text/plain": [
              "array([[0, 2],\n",
              "       [1, 2]])"
            ]
          },
          "metadata": {
            "tags": []
          },
          "execution_count": 12
        }
      ]
    },
    {
      "cell_type": "code",
      "metadata": {
        "id": "0iCVgPUc7YoH"
      },
      "source": [
        "def fScore(true,pred):\r\n",
        "  P=precision(true,pred)\r\n",
        "  R=recall(true,pred)\r\n",
        "  return (2*P*R)/(P+R)\r\n",
        "  "
      ],
      "execution_count": null,
      "outputs": []
    },
    {
      "cell_type": "code",
      "metadata": {
        "colab": {
          "base_uri": "https://localhost:8080/"
        },
        "id": "nDAapLDy7rg3",
        "outputId": "17a81d32-56fd-4558-a925-87523968a4a6"
      },
      "source": [
        "fScore(true,pred)"
      ],
      "execution_count": null,
      "outputs": [
        {
          "output_type": "execute_result",
          "data": {
            "text/plain": [
              "0.5714285714285715"
            ]
          },
          "metadata": {
            "tags": []
          },
          "execution_count": 15
        }
      ]
    },
    {
      "cell_type": "code",
      "metadata": {
        "id": "Kk6NrcjQ7w-Y"
      },
      "source": [
        "#Metthew's Correlation Coefficient"
      ],
      "execution_count": null,
      "outputs": []
    },
    {
      "cell_type": "code",
      "metadata": {
        "id": "mvYB0KOa8gBK"
      },
      "source": [
        "import math"
      ],
      "execution_count": null,
      "outputs": []
    },
    {
      "cell_type": "code",
      "metadata": {
        "id": "cyqUJPNC73u5"
      },
      "source": [
        "def MCC(true,pred):\r\n",
        "  true=true.flatten()\r\n",
        "  pred=pred.flatten()\r\n",
        "  tp=(true*pred).sum()\r\n",
        "  tn=0 #assignment\r\n",
        "  fp=0 #assignment\r\n",
        "  fn=0 #assignment\r\n",
        "  mcc=(tp*tn-fp*fn)/math.sqrt((tp+fp)*(tp+fn)*(tn+fp)*(tn+fn))\r\n",
        "  return mcc\r\n",
        "  "
      ],
      "execution_count": null,
      "outputs": []
    },
    {
      "cell_type": "code",
      "metadata": {
        "id": "w3UMip-z8xa4"
      },
      "source": [
        "true1=np.array([1,2.2,3])\r\n",
        "pred1=np.array([0,2.2,7])"
      ],
      "execution_count": null,
      "outputs": []
    },
    {
      "cell_type": "code",
      "metadata": {
        "id": "JadUvjdp9EFI"
      },
      "source": [
        "def mean_abs_error(true,pred):\r\n",
        "  return abs(true-pred).mean()"
      ],
      "execution_count": null,
      "outputs": []
    },
    {
      "cell_type": "code",
      "metadata": {
        "colab": {
          "base_uri": "https://localhost:8080/"
        },
        "id": "hntdA2RP9MRX",
        "outputId": "356e2182-12af-4045-8b7c-10edfeb9fb43"
      },
      "source": [
        "mean_abs_error(true1,pred1)"
      ],
      "execution_count": null,
      "outputs": [
        {
          "output_type": "execute_result",
          "data": {
            "text/plain": [
              "1.6666666666666667"
            ]
          },
          "metadata": {
            "tags": []
          },
          "execution_count": 22
        }
      ]
    },
    {
      "cell_type": "code",
      "metadata": {
        "id": "2bNdl7_X9PjJ"
      },
      "source": [
        "def mean_sq_err(true,pred):\r\n",
        "  true=true.flatten()\r\n",
        "  pred=pred.flatten()\r\n",
        "  temp=true-pred\r\n",
        "  x=((temp**2).sum())/len(temp)\r\n",
        "  return x\r\n",
        "  "
      ],
      "execution_count": null,
      "outputs": []
    },
    {
      "cell_type": "code",
      "metadata": {
        "colab": {
          "base_uri": "https://localhost:8080/"
        },
        "id": "xVTeOr1R9otY",
        "outputId": "f653fdba-b2c4-48da-e4c7-488822088ce6"
      },
      "source": [
        "mean_sq_err(true1,pred1)"
      ],
      "execution_count": null,
      "outputs": [
        {
          "output_type": "execute_result",
          "data": {
            "text/plain": [
              "5.666666666666667"
            ]
          },
          "metadata": {
            "tags": []
          },
          "execution_count": 24
        }
      ]
    },
    {
      "cell_type": "code",
      "metadata": {
        "id": "VLUn3cLZ9rC5"
      },
      "source": [
        "def root_me_sq_error(true,pred):\r\n",
        "  temp=mean_sq_err(true,pred)\r\n",
        "  return temp**0.5"
      ],
      "execution_count": null,
      "outputs": []
    },
    {
      "cell_type": "code",
      "metadata": {
        "colab": {
          "base_uri": "https://localhost:8080/"
        },
        "id": "ojBAObkW92Xo",
        "outputId": "563811d0-244d-4895-8766-6afaac188eaa"
      },
      "source": [
        "root_me_sq_error(true1,pred1)"
      ],
      "execution_count": null,
      "outputs": [
        {
          "output_type": "execute_result",
          "data": {
            "text/plain": [
              "2.3804761428476167"
            ]
          },
          "metadata": {
            "tags": []
          },
          "execution_count": 26
        }
      ]
    },
    {
      "cell_type": "code",
      "metadata": {
        "id": "nAP2wr1x95PI"
      },
      "source": [
        "test=np.array([[1,2],[3,4]])"
      ],
      "execution_count": null,
      "outputs": []
    },
    {
      "cell_type": "code",
      "metadata": {
        "id": "UltGe0TX-FZI",
        "colab": {
          "base_uri": "https://localhost:8080/"
        },
        "outputId": "95b9598d-2f2a-46a9-b872-71edf5e941d1"
      },
      "source": [
        "test.flatten()"
      ],
      "execution_count": null,
      "outputs": [
        {
          "output_type": "execute_result",
          "data": {
            "text/plain": [
              "array([1, 2, 3, 4])"
            ]
          },
          "metadata": {
            "tags": []
          },
          "execution_count": 28
        }
      ]
    },
    {
      "cell_type": "code",
      "metadata": {
        "id": "qi0Sl8xx-G6o",
        "colab": {
          "base_uri": "https://localhost:8080/"
        },
        "outputId": "9a21f2f3-8a98-4de8-e59b-90d59cd57741"
      },
      "source": [
        "test"
      ],
      "execution_count": null,
      "outputs": [
        {
          "output_type": "execute_result",
          "data": {
            "text/plain": [
              "array([[1, 2],\n",
              "       [3, 4]])"
            ]
          },
          "metadata": {
            "tags": []
          },
          "execution_count": 29
        }
      ]
    },
    {
      "cell_type": "code",
      "metadata": {
        "id": "Ks1PtZGi-ICY"
      },
      "source": [
        ""
      ],
      "execution_count": null,
      "outputs": []
    }
  ]
}